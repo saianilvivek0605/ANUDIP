{
 "cells": [
  {
   "cell_type": "markdown",
   "id": "48684e3d-54fb-427c-beb9-4f203d783f2a",
   "metadata": {
    "jp-MarkdownHeadingCollapsed": true
   },
   "source": [
    "#### Functions\n",
    "In Python, a function is a reusable block of code that performs a specific task or set of\n",
    "tasks. Functions allow you to encapsulate logic, make your code more organized and\n",
    "modular, and avoid redundancy by enabling you to call the same code multiple times\n",
    "with different inputs.\n"
   ]
  },
  {
   "cell_type": "code",
   "execution_count": null,
   "id": "8945d527-85fd-4c82-b1b5-6b4be6a5f382",
   "metadata": {},
   "outputs": [],
   "source": [
    "# syntax:\n",
    "\n",
    "# def <function_name>(<parameters>):\n",
    "#     <code block>/<function body>\n",
    "#     .\n",
    "#     .\n",
    "#     .\n",
    "#     return <something>  \n",
    "\n",
    "# optionals\n",
    "# parameters \n",
    "# return\n",
    "# function body"
   ]
  },
  {
   "cell_type": "code",
   "execution_count": 3,
   "id": "55a4e475-2202-411e-963d-2171cb6fa81a",
   "metadata": {},
   "outputs": [],
   "source": [
    "def foo():\n",
    "    pass"
   ]
  },
  {
   "cell_type": "code",
   "execution_count": 4,
   "id": "d433c2be-fd80-48ee-9ccf-c24542ff27b1",
   "metadata": {},
   "outputs": [],
   "source": [
    "# pass: it's a transfer statement (control flow statement) that is used to define an empty function or class"
   ]
  },
  {
   "cell_type": "code",
   "execution_count": 5,
   "id": "38eb81b7-dcfd-4a25-9f3f-b1bf0045ec1f",
   "metadata": {},
   "outputs": [
    {
     "data": {
      "text/plain": [
       "function"
      ]
     },
     "execution_count": 5,
     "metadata": {},
     "output_type": "execute_result"
    }
   ],
   "source": [
    "type(foo)"
   ]
  },
  {
   "cell_type": "code",
   "execution_count": 6,
   "id": "738714c0-7641-42e5-8643-02d44531df04",
   "metadata": {},
   "outputs": [
    {
     "data": {
      "text/plain": [
       "int"
      ]
     },
     "execution_count": 6,
     "metadata": {},
     "output_type": "execute_result"
    }
   ],
   "source": [
    "type(3)"
   ]
  },
  {
   "cell_type": "code",
   "execution_count": 7,
   "id": "7e882ff3-30b2-4275-a917-880e2e05f83d",
   "metadata": {},
   "outputs": [
    {
     "data": {
      "text/plain": [
       "str"
      ]
     },
     "execution_count": 7,
     "metadata": {},
     "output_type": "execute_result"
    }
   ],
   "source": [
    "type('')"
   ]
  },
  {
   "cell_type": "code",
   "execution_count": 8,
   "id": "cbcd5e38-d3be-4dc1-bb61-58271238a089",
   "metadata": {},
   "outputs": [],
   "source": [
    "# define a function that prints 'Hello'\n",
    "def greet():\n",
    "    print('Hello')"
   ]
  },
  {
   "cell_type": "code",
   "execution_count": 9,
   "id": "7a03d7fd-2bc4-4fa2-a502-a48150f617ee",
   "metadata": {},
   "outputs": [
    {
     "data": {
      "text/plain": [
       "function"
      ]
     },
     "execution_count": 9,
     "metadata": {},
     "output_type": "execute_result"
    }
   ],
   "source": [
    "type(greet)"
   ]
  },
  {
   "cell_type": "code",
   "execution_count": 10,
   "id": "5df76523-cb2c-4f68-aed2-5c49ef71ceb1",
   "metadata": {},
   "outputs": [
    {
     "name": "stdout",
     "output_type": "stream",
     "text": [
      "Hello\n"
     ]
    }
   ],
   "source": [
    "# to call a function use <function_name>(<paramters>)\n",
    "greet()"
   ]
  },
  {
   "cell_type": "code",
   "execution_count": 11,
   "id": "0f75f694-22b6-4d63-b017-7f9151611b92",
   "metadata": {},
   "outputs": [
    {
     "name": "stdout",
     "output_type": "stream",
     "text": [
      "Hello\n"
     ]
    }
   ],
   "source": [
    "greet()"
   ]
  },
  {
   "cell_type": "code",
   "execution_count": 12,
   "id": "6e846a53-cc05-48f3-946c-d1ec147fd2bd",
   "metadata": {},
   "outputs": [
    {
     "name": "stdout",
     "output_type": "stream",
     "text": [
      "Hello\n"
     ]
    }
   ],
   "source": [
    "greet()"
   ]
  },
  {
   "cell_type": "code",
   "execution_count": 13,
   "id": "1f5ea682-1c3d-427f-88b6-2e5cc75027fd",
   "metadata": {},
   "outputs": [
    {
     "name": "stdout",
     "output_type": "stream",
     "text": [
      "Hello\n"
     ]
    }
   ],
   "source": [
    "greet()"
   ]
  },
  {
   "cell_type": "code",
   "execution_count": 14,
   "id": "e61c91eb-3f1d-4edf-940e-99edafca404c",
   "metadata": {},
   "outputs": [
    {
     "name": "stdout",
     "output_type": "stream",
     "text": [
      "Hello\n"
     ]
    }
   ],
   "source": [
    "x = greet()"
   ]
  },
  {
   "cell_type": "code",
   "execution_count": 16,
   "id": "3bead648-8a4b-4f74-ad45-d2dee5fcc28d",
   "metadata": {},
   "outputs": [
    {
     "name": "stdout",
     "output_type": "stream",
     "text": [
      "None\n"
     ]
    }
   ],
   "source": [
    "print(x)"
   ]
  },
  {
   "cell_type": "code",
   "execution_count": 17,
   "id": "2fb79555-38b5-4c0a-afd0-c9d198ee03df",
   "metadata": {},
   "outputs": [
    {
     "data": {
      "text/plain": [
       "NoneType"
      ]
     },
     "execution_count": 17,
     "metadata": {},
     "output_type": "execute_result"
    }
   ],
   "source": [
    "type(x)"
   ]
  },
  {
   "cell_type": "code",
   "execution_count": null,
   "id": "6c63a60b-ee70-4c66-9b9a-2f6f7b3e8984",
   "metadata": {},
   "outputs": [],
   "source": [
    "# int\n",
    "# float\n",
    "# complex\n",
    "# bool\n",
    "# str\n",
    "# list\n",
    "# tuple\n",
    "# set\n",
    "# dict\n",
    "# frozen set\n",
    "# NoneType"
   ]
  },
  {
   "cell_type": "code",
   "execution_count": 18,
   "id": "949db111-35b2-4ff9-9fe5-5fb8cfadf708",
   "metadata": {},
   "outputs": [],
   "source": [
    "def bar():\n",
    "    return 'Hello'"
   ]
  },
  {
   "cell_type": "code",
   "execution_count": 19,
   "id": "3ba2faa9-290d-4034-abf0-a37ad6c6daed",
   "metadata": {},
   "outputs": [],
   "source": [
    "y = bar()"
   ]
  },
  {
   "cell_type": "code",
   "execution_count": 20,
   "id": "d6c90c0d-9b28-4664-9254-e31783807a93",
   "metadata": {},
   "outputs": [
    {
     "data": {
      "text/plain": [
       "'Hello'"
      ]
     },
     "execution_count": 20,
     "metadata": {},
     "output_type": "execute_result"
    }
   ],
   "source": [
    "y"
   ]
  },
  {
   "cell_type": "code",
   "execution_count": 21,
   "id": "fc66c4df-45af-45d7-86dd-ed7d293b3135",
   "metadata": {},
   "outputs": [
    {
     "data": {
      "text/plain": [
       "str"
      ]
     },
     "execution_count": 21,
     "metadata": {},
     "output_type": "execute_result"
    }
   ],
   "source": [
    "type(y)"
   ]
  },
  {
   "cell_type": "code",
   "execution_count": 22,
   "id": "76986695-5d9a-4bb5-8ed5-5cdacea2dbd6",
   "metadata": {},
   "outputs": [
    {
     "name": "stdout",
     "output_type": "stream",
     "text": [
      "Hello\n",
      "None\n"
     ]
    }
   ],
   "source": [
    "print(greet())"
   ]
  },
  {
   "cell_type": "code",
   "execution_count": 23,
   "id": "d71700e6-6020-424f-b127-924440f28234",
   "metadata": {},
   "outputs": [
    {
     "name": "stdout",
     "output_type": "stream",
     "text": [
      "Hello\n"
     ]
    }
   ],
   "source": [
    "print(bar())"
   ]
  },
  {
   "cell_type": "code",
   "execution_count": 24,
   "id": "a96f6cf1-c385-4337-b92f-fadb5d05b289",
   "metadata": {},
   "outputs": [],
   "source": [
    "i = type(3)"
   ]
  },
  {
   "cell_type": "code",
   "execution_count": 25,
   "id": "62abcfd8-3ae9-41a8-8ff6-87a9ac955c97",
   "metadata": {},
   "outputs": [
    {
     "name": "stdout",
     "output_type": "stream",
     "text": [
      "<class 'int'>\n"
     ]
    }
   ],
   "source": [
    "print(i)"
   ]
  },
  {
   "cell_type": "code",
   "execution_count": 26,
   "id": "633e6724-daeb-4a7d-a06f-2357f8e4e212",
   "metadata": {},
   "outputs": [],
   "source": [
    "def add_num(a,  b):\n",
    "    return a + b"
   ]
  },
  {
   "cell_type": "code",
   "execution_count": 27,
   "id": "28b5bd36-8138-4878-9bb2-117810d8774d",
   "metadata": {},
   "outputs": [
    {
     "data": {
      "text/plain": [
       "5"
      ]
     },
     "execution_count": 27,
     "metadata": {},
     "output_type": "execute_result"
    }
   ],
   "source": [
    "add_num(2, 3)"
   ]
  },
  {
   "cell_type": "code",
   "execution_count": 28,
   "id": "e8192a8a-bd0a-4f74-9548-14f1f57f02e1",
   "metadata": {},
   "outputs": [
    {
     "data": {
      "text/plain": [
       "6.0"
      ]
     },
     "execution_count": 28,
     "metadata": {},
     "output_type": "execute_result"
    }
   ],
   "source": [
    "add_num(2.5, 3.5)"
   ]
  },
  {
   "cell_type": "code",
   "execution_count": 29,
   "id": "1ae250d2-28a0-44d4-91e4-569b46eb6cf2",
   "metadata": {},
   "outputs": [
    {
     "data": {
      "text/plain": [
       "'HelloWorld'"
      ]
     },
     "execution_count": 29,
     "metadata": {},
     "output_type": "execute_result"
    }
   ],
   "source": [
    "add_num('Hello', 'World')"
   ]
  },
  {
   "cell_type": "code",
   "execution_count": 36,
   "id": "64849631-87f5-46d0-b40d-4fc0c5254de7",
   "metadata": {},
   "outputs": [],
   "source": [
    "# create a python function that greets the user\n",
    "def greet_user(user_name):\n",
    "    return f'Hello {user_name}!'"
   ]
  },
  {
   "cell_type": "code",
   "execution_count": 37,
   "id": "641e326b-c2e4-47bf-8c99-e5977862c209",
   "metadata": {},
   "outputs": [
    {
     "ename": "TypeError",
     "evalue": "greet_user() missing 1 required positional argument: 'user_name'",
     "output_type": "error",
     "traceback": [
      "\u001b[1;31m---------------------------------------------------------------------------\u001b[0m",
      "\u001b[1;31mTypeError\u001b[0m                                 Traceback (most recent call last)",
      "Cell \u001b[1;32mIn[37], line 1\u001b[0m\n\u001b[1;32m----> 1\u001b[0m \u001b[43mgreet_user\u001b[49m\u001b[43m(\u001b[49m\u001b[43m)\u001b[49m\n",
      "\u001b[1;31mTypeError\u001b[0m: greet_user() missing 1 required positional argument: 'user_name'"
     ]
    }
   ],
   "source": [
    "greet_user()"
   ]
  },
  {
   "cell_type": "code",
   "execution_count": 38,
   "id": "70578e9e-c18d-4748-bc9d-1127333e4495",
   "metadata": {},
   "outputs": [
    {
     "data": {
      "text/plain": [
       "'Hello Alice!'"
      ]
     },
     "execution_count": 38,
     "metadata": {},
     "output_type": "execute_result"
    }
   ],
   "source": [
    "greet_user('Alice')"
   ]
  },
  {
   "cell_type": "code",
   "execution_count": 39,
   "id": "2fa915c8-64fe-4d58-9fee-e58bbf883ae3",
   "metadata": {},
   "outputs": [
    {
     "data": {
      "text/plain": [
       "'Hello 123!'"
      ]
     },
     "execution_count": 39,
     "metadata": {},
     "output_type": "execute_result"
    }
   ],
   "source": [
    "greet_user(123)"
   ]
  },
  {
   "cell_type": "code",
   "execution_count": 40,
   "id": "520e23b3-c1e0-4323-ad8a-b4fa4f7fdb79",
   "metadata": {},
   "outputs": [],
   "source": [
    "# built in --> print(), len(), type(), dir() .etc\n",
    "# user defined --> greet, greet_user, foo, bar"
   ]
  },
  {
   "cell_type": "code",
   "execution_count": 44,
   "id": "38c34ab6-4e78-489a-89dc-7eafca605458",
   "metadata": {},
   "outputs": [
    {
     "name": "stdout",
     "output_type": "stream",
     "text": [
      "['In', 'Out', '_', '_17', '_20', '_21', '_27', '_28', '_29', '_32', '_33', '_38', '_39', '_41', '_42', '_43', '_5', '_6', '_7', '_9', '__', '___', '__builtin__', '__builtins__', '__doc__', '__loader__', '__name__', '__package__', '__session__', '__spec__', '_dh', '_i', '_i1', '_i10', '_i11', '_i12', '_i13', '_i14', '_i15', '_i16', '_i17', '_i18', '_i19', '_i2', '_i20', '_i21', '_i22', '_i23', '_i24', '_i25', '_i26', '_i27', '_i28', '_i29', '_i3', '_i30', '_i31', '_i32', '_i33', '_i34', '_i35', '_i36', '_i37', '_i38', '_i39', '_i4', '_i40', '_i41', '_i42', '_i43', '_i44', '_i5', '_i6', '_i7', '_i8', '_i9', '_ih', '_ii', '_iii', '_oh', 'add_num', 'bar', 'exit', 'foo', 'get_ipython', 'greet', 'greet_user', 'i', 'open', 'quit', 'x', 'y']\n"
     ]
    }
   ],
   "source": [
    "print(dir())"
   ]
  },
  {
   "cell_type": "code",
   "execution_count": 45,
   "id": "98184a0d-1568-4c31-9a75-4af17d02dcb2",
   "metadata": {},
   "outputs": [],
   "source": [
    "def baz():\n",
    "    pass"
   ]
  },
  {
   "cell_type": "code",
   "execution_count": 46,
   "id": "6357cb80-09db-4a22-aa9e-fe249da36c71",
   "metadata": {},
   "outputs": [
    {
     "name": "stdout",
     "output_type": "stream",
     "text": [
      "['In', 'Out', '_', '_17', '_20', '_21', '_27', '_28', '_29', '_32', '_33', '_38', '_39', '_41', '_42', '_43', '_5', '_6', '_7', '_9', '__', '___', '__builtin__', '__builtins__', '__doc__', '__loader__', '__name__', '__package__', '__session__', '__spec__', '_dh', '_i', '_i1', '_i10', '_i11', '_i12', '_i13', '_i14', '_i15', '_i16', '_i17', '_i18', '_i19', '_i2', '_i20', '_i21', '_i22', '_i23', '_i24', '_i25', '_i26', '_i27', '_i28', '_i29', '_i3', '_i30', '_i31', '_i32', '_i33', '_i34', '_i35', '_i36', '_i37', '_i38', '_i39', '_i4', '_i40', '_i41', '_i42', '_i43', '_i44', '_i45', '_i46', '_i5', '_i6', '_i7', '_i8', '_i9', '_ih', '_ii', '_iii', '_oh', 'add_num', 'bar', 'baz', 'exit', 'foo', 'get_ipython', 'greet', 'greet_user', 'i', 'open', 'quit', 'x', 'y']\n"
     ]
    }
   ],
   "source": [
    "print(dir())"
   ]
  },
  {
   "cell_type": "code",
   "execution_count": 48,
   "id": "8b3fa1d8-0637-4ca0-b154-56f2cec89495",
   "metadata": {},
   "outputs": [],
   "source": [
    "import math"
   ]
  },
  {
   "cell_type": "code",
   "execution_count": 50,
   "id": "c12207cf-355c-46ac-8ee9-2f5f797548a7",
   "metadata": {},
   "outputs": [
    {
     "name": "stdout",
     "output_type": "stream",
     "text": [
      "['__doc__', '__loader__', '__name__', '__package__', '__spec__', 'acos', 'acosh', 'asin', 'asinh', 'atan', 'atan2', 'atanh', 'cbrt', 'ceil', 'comb', 'copysign', 'cos', 'cosh', 'degrees', 'dist', 'e', 'erf', 'erfc', 'exp', 'exp2', 'expm1', 'fabs', 'factorial', 'floor', 'fma', 'fmod', 'frexp', 'fsum', 'gamma', 'gcd', 'hypot', 'inf', 'isclose', 'isfinite', 'isinf', 'isnan', 'isqrt', 'lcm', 'ldexp', 'lgamma', 'log', 'log10', 'log1p', 'log2', 'modf', 'nan', 'nextafter', 'perm', 'pi', 'pow', 'prod', 'radians', 'remainder', 'sin', 'sinh', 'sqrt', 'sumprod', 'tan', 'tanh', 'tau', 'trunc', 'ulp']\n"
     ]
    }
   ],
   "source": [
    "print(dir(math))"
   ]
  },
  {
   "cell_type": "code",
   "execution_count": 51,
   "id": "804bcba6-6925-479e-a94b-9e5f841ae1bc",
   "metadata": {},
   "outputs": [
    {
     "name": "stdout",
     "output_type": "stream",
     "text": [
      "Help on built-in function sin in module math:\n",
      "\n",
      "sin(x, /)\n",
      "    Return the sine of x (measured in radians).\n",
      "\n"
     ]
    }
   ],
   "source": [
    "help(math.sin)"
   ]
  },
  {
   "cell_type": "code",
   "execution_count": 52,
   "id": "76a134c0-c8bc-4421-bea1-a8b7a01f8e51",
   "metadata": {},
   "outputs": [
    {
     "data": {
      "text/plain": [
       "1.0"
      ]
     },
     "execution_count": 52,
     "metadata": {},
     "output_type": "execute_result"
    }
   ],
   "source": [
    "math.sin(math.pi / 2)"
   ]
  },
  {
   "cell_type": "code",
   "execution_count": 53,
   "id": "09429a39-1ee8-4fe8-a0aa-238c9fd56d6e",
   "metadata": {},
   "outputs": [
    {
     "data": {
      "text/plain": [
       "1.0"
      ]
     },
     "execution_count": 53,
     "metadata": {},
     "output_type": "execute_result"
    }
   ],
   "source": [
    "math.cos(0)"
   ]
  },
  {
   "cell_type": "markdown",
   "id": "47f4ee22-12b7-4c61-b0a6-d7b2b3581a24",
   "metadata": {
    "jp-MarkdownHeadingCollapsed": true
   },
   "source": [
    "#### Examples "
   ]
  },
  {
   "cell_type": "code",
   "execution_count": 14,
   "id": "02c02133-5121-406e-ae0e-3a373b8798d1",
   "metadata": {},
   "outputs": [],
   "source": [
    "# lab Q1. Declare a div() function with two parameters. Then call the function and pass two\n",
    "# numbers and display their division.\n",
    "\n",
    "def div(num1, num2):\n",
    "    '''This function returns num1/num2, where num2 is not zero'''  # doc string\n",
    "    if num2 != 0:\n",
    "        return round(num1 / num2, 2)\n",
    "    return 'Can not divide by zero'"
   ]
  },
  {
   "cell_type": "code",
   "execution_count": 2,
   "id": "5fab80a2-688b-4ef1-aeff-6d270818b871",
   "metadata": {},
   "outputs": [
    {
     "data": {
      "text/plain": [
       "2.0"
      ]
     },
     "execution_count": 2,
     "metadata": {},
     "output_type": "execute_result"
    }
   ],
   "source": [
    "div(4, 2)"
   ]
  },
  {
   "cell_type": "code",
   "execution_count": 5,
   "id": "09a2cf70-ebe7-4f5e-b64b-f8f8c626861f",
   "metadata": {},
   "outputs": [
    {
     "data": {
      "text/plain": [
       "1.67"
      ]
     },
     "execution_count": 5,
     "metadata": {},
     "output_type": "execute_result"
    }
   ],
   "source": [
    "div(5, 3)"
   ]
  },
  {
   "cell_type": "code",
   "execution_count": 6,
   "id": "ea6b33fc-0b31-494e-a538-4ca148014b2c",
   "metadata": {},
   "outputs": [
    {
     "ename": "ZeroDivisionError",
     "evalue": "division by zero",
     "output_type": "error",
     "traceback": [
      "\u001b[1;31m---------------------------------------------------------------------------\u001b[0m",
      "\u001b[1;31mZeroDivisionError\u001b[0m                         Traceback (most recent call last)",
      "Cell \u001b[1;32mIn[6], line 1\u001b[0m\n\u001b[1;32m----> 1\u001b[0m \u001b[43mdiv\u001b[49m\u001b[43m(\u001b[49m\u001b[38;5;241;43m6\u001b[39;49m\u001b[43m,\u001b[49m\u001b[43m \u001b[49m\u001b[38;5;241;43m0\u001b[39;49m\u001b[43m)\u001b[49m\n",
      "Cell \u001b[1;32mIn[4], line 6\u001b[0m, in \u001b[0;36mdiv\u001b[1;34m(num1, num2)\u001b[0m\n\u001b[0;32m      4\u001b[0m \u001b[38;5;28;01mdef\u001b[39;00m \u001b[38;5;21mdiv\u001b[39m(num1, num2):\n\u001b[0;32m      5\u001b[0m \u001b[38;5;250m    \u001b[39m\u001b[38;5;124;03m'''This function returns num1/num2'''\u001b[39;00m\n\u001b[1;32m----> 6\u001b[0m     \u001b[38;5;28;01mreturn\u001b[39;00m \u001b[38;5;28mround\u001b[39m(\u001b[43mnum1\u001b[49m\u001b[43m \u001b[49m\u001b[38;5;241;43m/\u001b[39;49m\u001b[43m \u001b[49m\u001b[43mnum2\u001b[49m, \u001b[38;5;241m2\u001b[39m)\n",
      "\u001b[1;31mZeroDivisionError\u001b[0m: division by zero"
     ]
    }
   ],
   "source": [
    "div(6, 0)"
   ]
  },
  {
   "cell_type": "code",
   "execution_count": 9,
   "id": "6fb0f835-6a76-4553-bcf8-8c5614e3348a",
   "metadata": {},
   "outputs": [
    {
     "data": {
      "text/plain": [
       "'Can not divide by zero'"
      ]
     },
     "execution_count": 9,
     "metadata": {},
     "output_type": "execute_result"
    }
   ],
   "source": [
    "div(7, 0)"
   ]
  },
  {
   "cell_type": "code",
   "execution_count": 10,
   "id": "6dfb2b5a-fee7-479c-b7d0-6da0a5818af6",
   "metadata": {},
   "outputs": [
    {
     "data": {
      "text/plain": [
       "['__annotations__',\n",
       " '__builtins__',\n",
       " '__call__',\n",
       " '__class__',\n",
       " '__closure__',\n",
       " '__code__',\n",
       " '__defaults__',\n",
       " '__delattr__',\n",
       " '__dict__',\n",
       " '__dir__',\n",
       " '__doc__',\n",
       " '__eq__',\n",
       " '__format__',\n",
       " '__ge__',\n",
       " '__get__',\n",
       " '__getattribute__',\n",
       " '__getstate__',\n",
       " '__globals__',\n",
       " '__gt__',\n",
       " '__hash__',\n",
       " '__init__',\n",
       " '__init_subclass__',\n",
       " '__kwdefaults__',\n",
       " '__le__',\n",
       " '__lt__',\n",
       " '__module__',\n",
       " '__name__',\n",
       " '__ne__',\n",
       " '__new__',\n",
       " '__qualname__',\n",
       " '__reduce__',\n",
       " '__reduce_ex__',\n",
       " '__repr__',\n",
       " '__setattr__',\n",
       " '__sizeof__',\n",
       " '__str__',\n",
       " '__subclasshook__',\n",
       " '__type_params__']"
      ]
     },
     "execution_count": 10,
     "metadata": {},
     "output_type": "execute_result"
    }
   ],
   "source": [
    "dir(div)"
   ]
  },
  {
   "cell_type": "code",
   "execution_count": 15,
   "id": "4be8743f-50e0-4dc0-a050-5ea0fa900e7d",
   "metadata": {},
   "outputs": [
    {
     "data": {
      "text/plain": [
       "'This function returns num1/num2, where num2 is not zero'"
      ]
     },
     "execution_count": 15,
     "metadata": {},
     "output_type": "execute_result"
    }
   ],
   "source": [
    "div.__doc__"
   ]
  },
  {
   "cell_type": "code",
   "execution_count": 17,
   "id": "f605823a-7529-40c9-b439-cca2e8b8e191",
   "metadata": {},
   "outputs": [
    {
     "name": "stdout",
     "output_type": "stream",
     "text": [
      "Hello, world\n"
     ]
    }
   ],
   "source": [
    "print('Hello, world')"
   ]
  },
  {
   "cell_type": "code",
   "execution_count": null,
   "id": "5080a019-d5cc-44ef-8c3f-c71ae38127fd",
   "metadata": {},
   "outputs": [],
   "source": [
    "# python --> Recipe \n",
    "# Cpython --> Chef"
   ]
  },
  {
   "cell_type": "code",
   "execution_count": 19,
   "id": "a33edcca-ea2d-42dd-b2cf-19f8f4c7efd7",
   "metadata": {},
   "outputs": [],
   "source": [
    "# lab Q2. Declare a square() function with one parameter.Then call the function and pass one\n",
    "# number and display the square of that number .\n",
    "\n",
    "def square(num):\n",
    "    '''This function returns the square of num'''\n",
    "    return num ** 2"
   ]
  },
  {
   "cell_type": "code",
   "execution_count": 20,
   "id": "fb8515dd-ae77-4c49-a04a-5298236e3e78",
   "metadata": {},
   "outputs": [
    {
     "data": {
      "text/plain": [
       "9"
      ]
     },
     "execution_count": 20,
     "metadata": {},
     "output_type": "execute_result"
    }
   ],
   "source": [
    "square(3)"
   ]
  },
  {
   "cell_type": "code",
   "execution_count": 21,
   "id": "32d5e0a3-0c58-4651-a61a-b5ab28747bec",
   "metadata": {},
   "outputs": [],
   "source": [
    "def sqrt(num):\n",
    "    '''This function return the square root of num'''\n",
    "    return num ** 0.5"
   ]
  },
  {
   "cell_type": "code",
   "execution_count": 22,
   "id": "af3c9ea2-78eb-46dc-ad32-b22e5d4f4334",
   "metadata": {},
   "outputs": [
    {
     "data": {
      "text/plain": [
       "3.0"
      ]
     },
     "execution_count": 22,
     "metadata": {},
     "output_type": "execute_result"
    }
   ],
   "source": [
    "sqrt(9)"
   ]
  },
  {
   "cell_type": "code",
   "execution_count": 23,
   "id": "a817c200-02ea-4618-9d28-26546b6c8236",
   "metadata": {},
   "outputs": [],
   "source": [
    "import math "
   ]
  },
  {
   "cell_type": "code",
   "execution_count": 24,
   "id": "efe7af8b-1ca4-430e-b2fa-00bc60559012",
   "metadata": {},
   "outputs": [
    {
     "data": {
      "text/plain": [
       "3.0"
      ]
     },
     "execution_count": 24,
     "metadata": {},
     "output_type": "execute_result"
    }
   ],
   "source": [
    "math.sqrt(9)"
   ]
  },
  {
   "cell_type": "code",
   "execution_count": 33,
   "id": "19558bf8-2f28-4730-a94f-ddc0e2efe21b",
   "metadata": {},
   "outputs": [
    {
     "data": {
      "text/plain": [
       "[45, 82, 41, 87, 8]"
      ]
     },
     "execution_count": 33,
     "metadata": {},
     "output_type": "execute_result"
    }
   ],
   "source": [
    "# lab Q3. Using max() and min() functions display the maximum and minimum of 5 random\n",
    "# numbers.\n",
    "\n",
    "import random\n",
    "\n",
    "rand_num_list = []\n",
    "\n",
    "for _ in range(5):\n",
    "    rand_num_list.append(random.randint(1, 100))\n",
    "\n",
    "rand_num_list"
   ]
  },
  {
   "cell_type": "code",
   "execution_count": 34,
   "id": "c88f1ad4-d579-4819-9b43-82baa34187a5",
   "metadata": {},
   "outputs": [
    {
     "data": {
      "text/plain": [
       "87"
      ]
     },
     "execution_count": 34,
     "metadata": {},
     "output_type": "execute_result"
    }
   ],
   "source": [
    "max(rand_num_list)"
   ]
  },
  {
   "cell_type": "code",
   "execution_count": 35,
   "id": "67a2ee40-7dcd-410a-8985-f0b5b39378c7",
   "metadata": {},
   "outputs": [
    {
     "data": {
      "text/plain": [
       "8"
      ]
     },
     "execution_count": 35,
     "metadata": {},
     "output_type": "execute_result"
    }
   ],
   "source": [
    "min(rand_num_list)"
   ]
  },
  {
   "cell_type": "code",
   "execution_count": 36,
   "id": "e0f8b2ad-c9f5-4761-8493-717fad879da9",
   "metadata": {},
   "outputs": [
    {
     "data": {
      "text/plain": [
       "'alice'"
      ]
     },
     "execution_count": 36,
     "metadata": {},
     "output_type": "execute_result"
    }
   ],
   "source": [
    "# lab Q4. Accept a name from the user and display that in lower case using lower() function\n",
    "\n",
    "name = 'Alice'\n",
    "name.lower()"
   ]
  },
  {
   "cell_type": "code",
   "execution_count": 37,
   "id": "ab42ae48-4d34-41e7-9cd7-4cd308f5dbe0",
   "metadata": {},
   "outputs": [],
   "source": [
    "def lowercae_name(user_name):\n",
    "    '''This function returns the user_name in lower case'''\n",
    "    return user_name.lower()"
   ]
  },
  {
   "cell_type": "code",
   "execution_count": 38,
   "id": "73e15d31-219b-4528-8525-e2f9201e7fb6",
   "metadata": {},
   "outputs": [
    {
     "name": "stdin",
     "output_type": "stream",
     "text": [
      "Enter your name:  JOHN\n"
     ]
    },
    {
     "data": {
      "text/plain": [
       "'john'"
      ]
     },
     "execution_count": 38,
     "metadata": {},
     "output_type": "execute_result"
    }
   ],
   "source": [
    "user_name = input('Enter your name: ')\n",
    "lowercae_name(user_name)"
   ]
  },
  {
   "cell_type": "code",
   "execution_count": 39,
   "id": "83b1dc10-69ec-4286-9110-22ce4e89a36f",
   "metadata": {},
   "outputs": [
    {
     "name": "stdout",
     "output_type": "stream",
     "text": [
      "Help on function lowercae_name in module __main__:\n",
      "\n",
      "lowercae_name(user_name)\n",
      "    This function returns the user_name in lower case\n",
      "\n"
     ]
    }
   ],
   "source": [
    "help(lowercae_name)"
   ]
  },
  {
   "cell_type": "code",
   "execution_count": 41,
   "id": "0b002060-8b68-444e-9160-e986b2feca3f",
   "metadata": {},
   "outputs": [
    {
     "name": "stdout",
     "output_type": "stream",
     "text": [
      "Help on built-in function len in module builtins:\n",
      "\n",
      "len(obj, /)\n",
      "    Return the number of items in a container.\n",
      "\n"
     ]
    }
   ],
   "source": [
    "help(len)"
   ]
  },
  {
   "cell_type": "code",
   "execution_count": 42,
   "id": "f6cc5a37-162b-4fb9-a78c-70252d1647bf",
   "metadata": {},
   "outputs": [],
   "source": [
    "# Q1. Create a function to check if a number is even or odd.\n",
    "# Define a function is_even(number) that takes an integer and returns True if the number is even, otherwise False.\n",
    "\n",
    "def is_even(num):\n",
    "    # if num % 2 == 0:\n",
    "    #     return True\n",
    "    # else:\n",
    "    #     return False\n",
    "\n",
    "    # if num % 2 == 0:\n",
    "    #     return True\n",
    "    # return False\n",
    "    \n",
    "    return True if num % 2 == 0 else False"
   ]
  },
  {
   "cell_type": "code",
   "execution_count": 43,
   "id": "7ef09abd-c215-4cdf-ada8-205175a61e99",
   "metadata": {},
   "outputs": [
    {
     "data": {
      "text/plain": [
       "False"
      ]
     },
     "execution_count": 43,
     "metadata": {},
     "output_type": "execute_result"
    }
   ],
   "source": [
    "is_even(5)"
   ]
  },
  {
   "cell_type": "code",
   "execution_count": 44,
   "id": "41f0f839-e897-4826-91fb-c9fabd80e589",
   "metadata": {},
   "outputs": [
    {
     "data": {
      "text/plain": [
       "True"
      ]
     },
     "execution_count": 44,
     "metadata": {},
     "output_type": "execute_result"
    }
   ],
   "source": [
    "is_even(8)"
   ]
  },
  {
   "cell_type": "code",
   "execution_count": 45,
   "id": "6a02cc74-c59f-4037-8a14-48e8b6b77f8c",
   "metadata": {},
   "outputs": [],
   "source": [
    "# Q2. Write a function to calculate the factorial of a number.\n",
    "# Define a function factorial(n) that takes an integer n and returns the factorial of n.\n",
    "\n",
    "def factorial(n):\n",
    "    fact = 1\n",
    "    for i in range(1, n + 1):\n",
    "        fact *= i\n",
    "    return fact"
   ]
  },
  {
   "cell_type": "code",
   "execution_count": 46,
   "id": "55e61660-a1fa-44e3-869b-c6d303783708",
   "metadata": {},
   "outputs": [
    {
     "data": {
      "text/plain": [
       "120"
      ]
     },
     "execution_count": 46,
     "metadata": {},
     "output_type": "execute_result"
    }
   ],
   "source": [
    "factorial(5)"
   ]
  },
  {
   "cell_type": "code",
   "execution_count": 47,
   "id": "7c9b5cb0-d360-4522-b2af-2e08fb4d5292",
   "metadata": {},
   "outputs": [
    {
     "data": {
      "text/plain": [
       "720"
      ]
     },
     "execution_count": 47,
     "metadata": {},
     "output_type": "execute_result"
    }
   ],
   "source": [
    "factorial(6)"
   ]
  },
  {
   "cell_type": "code",
   "execution_count": 48,
   "id": "465316d7-65d1-4ba6-9e17-dd0c48aa34f3",
   "metadata": {},
   "outputs": [
    {
     "data": {
      "text/plain": [
       "24"
      ]
     },
     "execution_count": 48,
     "metadata": {},
     "output_type": "execute_result"
    }
   ],
   "source": [
    "factorial(4)"
   ]
  },
  {
   "cell_type": "code",
   "execution_count": 49,
   "id": "c73f59e1-b5a7-4186-8764-88b851285a39",
   "metadata": {},
   "outputs": [],
   "source": [
    "# Q3. Create a function to find the power of a number.\n",
    "# Define a function power(base, exponent) that takes two arguments base and exponent, \n",
    "# and returns base raised to the power of exponent.\n",
    "\n",
    "def power(base, exponent):\n",
    "    return base ** exponent"
   ]
  },
  {
   "cell_type": "code",
   "execution_count": 50,
   "id": "aa4c8c2a-75db-47f6-9736-1fe6bf0a86a3",
   "metadata": {},
   "outputs": [
    {
     "data": {
      "text/plain": [
       "16"
      ]
     },
     "execution_count": 50,
     "metadata": {},
     "output_type": "execute_result"
    }
   ],
   "source": [
    "power(2, 4)"
   ]
  },
  {
   "cell_type": "code",
   "execution_count": 51,
   "id": "058647ad-b5c1-4391-a4a4-a774a13ddc1d",
   "metadata": {},
   "outputs": [
    {
     "data": {
      "text/plain": [
       "27"
      ]
     },
     "execution_count": 51,
     "metadata": {},
     "output_type": "execute_result"
    }
   ],
   "source": [
    "power(3, 3)"
   ]
  },
  {
   "cell_type": "code",
   "execution_count": 52,
   "id": "1dd7f77f-e045-40d0-a842-3ace4f673b6e",
   "metadata": {},
   "outputs": [
    {
     "data": {
      "text/plain": [
       "125"
      ]
     },
     "execution_count": 52,
     "metadata": {},
     "output_type": "execute_result"
    }
   ],
   "source": [
    "power(5, 3)"
   ]
  },
  {
   "cell_type": "code",
   "execution_count": 53,
   "id": "139e5ad6-07a2-4fe9-8818-81a626052af3",
   "metadata": {},
   "outputs": [],
   "source": [
    "# Q4. Write a function prodDigits() that inputs a number and returns the product of digits of that number.\n",
    "\n",
    "def prod_digits(num):\n",
    "    prod_of_digits = 1\n",
    "    while num != 0:\n",
    "        last_digit = num % 10\n",
    "        prod_of_digits *= last_digit\n",
    "        num //= 10\n",
    "    return prod_of_digits"
   ]
  },
  {
   "cell_type": "code",
   "execution_count": 54,
   "id": "e6df31ce-3dd1-4bfc-8e9a-d9930dce635a",
   "metadata": {},
   "outputs": [
    {
     "data": {
      "text/plain": [
       "6"
      ]
     },
     "execution_count": 54,
     "metadata": {},
     "output_type": "execute_result"
    }
   ],
   "source": [
    "prod_digits(123)"
   ]
  },
  {
   "cell_type": "code",
   "execution_count": 55,
   "id": "e2e97f0d-6fc5-41d0-8133-be0976ed5e7c",
   "metadata": {},
   "outputs": [
    {
     "data": {
      "text/plain": [
       "12"
      ]
     },
     "execution_count": 55,
     "metadata": {},
     "output_type": "execute_result"
    }
   ],
   "source": [
    "prod_digits(43)"
   ]
  },
  {
   "cell_type": "code",
   "execution_count": 56,
   "id": "41c50099-839f-4b7b-a068-3725e58d2875",
   "metadata": {},
   "outputs": [
    {
     "data": {
      "text/plain": [
       "120"
      ]
     },
     "execution_count": 56,
     "metadata": {},
     "output_type": "execute_result"
    }
   ],
   "source": [
    "prod_digits(546)  # 5 * 4 * 6"
   ]
  },
  {
   "cell_type": "code",
   "execution_count": 59,
   "id": "804ea56e-a087-4ebf-acef-71715056d7f2",
   "metadata": {},
   "outputs": [
    {
     "name": "stdin",
     "output_type": "stream",
     "text": [
      "Enter your weight in kg:  96\n",
      "Enter you height in meters:  1.62\n"
     ]
    },
    {
     "name": "stdout",
     "output_type": "stream",
     "text": [
      "your body mass index(BMI) is  = 36.58\n",
      "You are obese\n"
     ]
    }
   ],
   "source": [
    "# Q5. Write a Python Program to calculate your Body Mass Index.\n",
    "# Body Mass Index (BMI) is a measure of body fat based on an individual's weight and\n",
    "# height. It is commonly used as a screening tool to categorize individuals into different weight\n",
    "# status categories, such as underweight, normal weight, overweight, and obesity.\n",
    "\n",
    "# BMI = weight / height(m) ** 2   kg/m^2\n",
    "\n",
    "# if BMI <= 18.5 --> underweight\n",
    "# if 18.5 < BMI <= 24.9 --> normal weight\n",
    "# if 25 < BMI <= 29.29 --> overweight\n",
    "# otherwise --> obese\n",
    "\n",
    "\n",
    "def body_mass_index(weight, height):\n",
    "    return weight / height ** 2\n",
    "\n",
    "weight = float(input('Enter your weight in kg: '))\n",
    "height = float(input('Enter you height in meters: '))\n",
    "\n",
    "BMI = body_mass_index(weight, height)\n",
    "\n",
    "print(f'your body mass index(BMI) is  = {BMI:.2f}')\n",
    "\n",
    "if BMI <= 18.5:\n",
    "    print('You are underweight')\n",
    "elif 18.5 < BMI <= 24.9:\n",
    "    print('You are normal weight')\n",
    "elif 25 < BMI <= 29.29:\n",
    "    print('You are overweight')\n",
    "else:\n",
    "    print('You are obese')"
   ]
  },
  {
   "cell_type": "code",
   "execution_count": null,
   "id": "8630362b-a91a-4055-b259-47887c13e120",
   "metadata": {},
   "outputs": [],
   "source": [
    "# Q6. Write a function to check if given number is Armstrong or not\n",
    "# return True if given number is Armstrong, False otherwise"
   ]
  },
  {
   "cell_type": "code",
   "execution_count": null,
   "id": "96e02d8a-dbc9-4348-bc10-d07410cbd268",
   "metadata": {},
   "outputs": [],
   "source": [
    "# Q7. Write a function to print all the Armstrong number from 1 to given range"
   ]
  },
  {
   "cell_type": "code",
   "execution_count": null,
   "id": "6fb54bdd-8e3e-43f9-a350-a44bf6580747",
   "metadata": {},
   "outputs": [],
   "source": [
    "# Q8. Write a function that checks if the given number is a Harshad number \n",
    "# A number is a Harshad number it is divisible by it's sum of digits\n",
    "# ex. 18 is Harshad number --> 1 + 8 = 9, 18 is divisible by 9"
   ]
  },
  {
   "cell_type": "code",
   "execution_count": null,
   "id": "5cc742b7-0948-4438-bf90-d22e505246fc",
   "metadata": {},
   "outputs": [],
   "source": []
  },
  {
   "cell_type": "markdown",
   "id": "d817b431-cfa1-4ac2-b875-580b77c28f9a",
   "metadata": {},
   "source": [
    "#### Parameters and Arguments"
   ]
  },
  {
   "cell_type": "code",
   "execution_count": 67,
   "id": "e8a69766-70a9-4517-8aa6-1f8cf89da752",
   "metadata": {},
   "outputs": [],
   "source": [
    "def foo(a, b):  # a and b are parameters \n",
    "    pass"
   ]
  },
  {
   "cell_type": "code",
   "execution_count": 68,
   "id": "e9b2de15-cc03-4435-8272-d0f35a896eee",
   "metadata": {},
   "outputs": [],
   "source": [
    "foo(2, 3)  # 2, 3 are arguments"
   ]
  },
  {
   "cell_type": "markdown",
   "id": "762f244e-a902-4740-890f-cf00085cd449",
   "metadata": {},
   "source": [
    "##### types of parameters and arguments"
   ]
  },
  {
   "cell_type": "code",
   "execution_count": 69,
   "id": "f2c2f768-c372-4cba-82f9-9eabc45ba153",
   "metadata": {},
   "outputs": [],
   "source": [
    "# 1. default parameter\n",
    "# 2. positional arguments\n",
    "# 3. keyword arguments\n",
    "# 4. arbitory positional arguments\n",
    "# 5. arbitory keyword arguments"
   ]
  },
  {
   "cell_type": "code",
   "execution_count": 70,
   "id": "2ee06b08-7fb5-4088-9770-fb67844d23c3",
   "metadata": {},
   "outputs": [],
   "source": [
    "# 1. default parameter\n",
    "\n",
    "def greet(name = 'user'):  # name is a default parameter\n",
    "    return f'Hello, {name}'"
   ]
  },
  {
   "cell_type": "code",
   "execution_count": 71,
   "id": "56675a93-56d4-476b-becf-8eac11c84edb",
   "metadata": {},
   "outputs": [
    {
     "data": {
      "text/plain": [
       "'Hello, user'"
      ]
     },
     "execution_count": 71,
     "metadata": {},
     "output_type": "execute_result"
    }
   ],
   "source": [
    "greet()"
   ]
  },
  {
   "cell_type": "code",
   "execution_count": 72,
   "id": "26d2a256-9954-4855-bcc7-e1ab86e6c8ae",
   "metadata": {},
   "outputs": [
    {
     "data": {
      "text/plain": [
       "'Hello, Alice'"
      ]
     },
     "execution_count": 72,
     "metadata": {},
     "output_type": "execute_result"
    }
   ],
   "source": [
    "greet('Alice')"
   ]
  },
  {
   "cell_type": "code",
   "execution_count": 73,
   "id": "be54f2e4-2fbd-4ac5-844e-31150d484617",
   "metadata": {},
   "outputs": [],
   "source": [
    "def info(name = 'user', age = 18):\n",
    "    return f'I am {name}, I am {age} years old'"
   ]
  },
  {
   "cell_type": "code",
   "execution_count": 74,
   "id": "3eae5f27-5133-401a-a39a-402da182b452",
   "metadata": {},
   "outputs": [
    {
     "data": {
      "text/plain": [
       "'I am user, I am 18 years old'"
      ]
     },
     "execution_count": 74,
     "metadata": {},
     "output_type": "execute_result"
    }
   ],
   "source": [
    "info()"
   ]
  },
  {
   "cell_type": "code",
   "execution_count": 75,
   "id": "5e7e748a-28fe-4235-b329-7e4075d43a19",
   "metadata": {},
   "outputs": [
    {
     "data": {
      "text/plain": [
       "'I am Alice, I am 18 years old'"
      ]
     },
     "execution_count": 75,
     "metadata": {},
     "output_type": "execute_result"
    }
   ],
   "source": [
    "info('Alice')"
   ]
  },
  {
   "cell_type": "code",
   "execution_count": 76,
   "id": "71c9aaee-f8d4-459f-ab8b-4bbe9b0cf760",
   "metadata": {},
   "outputs": [
    {
     "data": {
      "text/plain": [
       "'I am 25, I am 18 years old'"
      ]
     },
     "execution_count": 76,
     "metadata": {},
     "output_type": "execute_result"
    }
   ],
   "source": [
    "info(25)"
   ]
  },
  {
   "cell_type": "code",
   "execution_count": 77,
   "id": "011e8ea3-2280-4512-a2a7-17638e7d6b92",
   "metadata": {},
   "outputs": [
    {
     "data": {
      "text/plain": [
       "'I am John, I am 43 years old'"
      ]
     },
     "execution_count": 77,
     "metadata": {},
     "output_type": "execute_result"
    }
   ],
   "source": [
    "info('John', 43)"
   ]
  },
  {
   "cell_type": "code",
   "execution_count": 78,
   "id": "6e32a82e-d0f9-42bb-bed1-bc6224a12552",
   "metadata": {},
   "outputs": [
    {
     "data": {
      "text/plain": [
       "'I am 43, I am John years old'"
      ]
     },
     "execution_count": 78,
     "metadata": {},
     "output_type": "execute_result"
    }
   ],
   "source": [
    "info(43, 'John')"
   ]
  },
  {
   "cell_type": "code",
   "execution_count": 79,
   "id": "8961ee48-959a-4683-a7a4-a632b9874812",
   "metadata": {},
   "outputs": [
    {
     "data": {
      "text/plain": [
       "'I am user, I am 43 years old'"
      ]
     },
     "execution_count": 79,
     "metadata": {},
     "output_type": "execute_result"
    }
   ],
   "source": [
    "info(age = 43)"
   ]
  },
  {
   "cell_type": "code",
   "execution_count": 80,
   "id": "3effa7eb-8f3a-4dce-9655-ecf2eadee389",
   "metadata": {},
   "outputs": [],
   "source": [
    "# 2. positional arguments\n",
    "def bar(a, b, c):\n",
    "    print(f'a = {a}, b = {b}, c = {c}')"
   ]
  },
  {
   "cell_type": "code",
   "execution_count": 81,
   "id": "9376e933-c8fa-4296-8cd4-9e868ed629da",
   "metadata": {},
   "outputs": [
    {
     "name": "stdout",
     "output_type": "stream",
     "text": [
      "a = 2, b = 3, c = 4\n"
     ]
    }
   ],
   "source": [
    "bar(2, 3, 4)"
   ]
  },
  {
   "cell_type": "code",
   "execution_count": 82,
   "id": "6f93e416-64a7-4293-82d9-5fd13521e53b",
   "metadata": {},
   "outputs": [
    {
     "name": "stdout",
     "output_type": "stream",
     "text": [
      "a = 3, b = 4, c = 2\n"
     ]
    }
   ],
   "source": [
    "bar(3, 4, 2)"
   ]
  },
  {
   "cell_type": "code",
   "execution_count": 83,
   "id": "22b4993c-30ac-471c-8b12-f35c56e02af7",
   "metadata": {},
   "outputs": [
    {
     "ename": "TypeError",
     "evalue": "bar() missing 1 required positional argument: 'c'",
     "output_type": "error",
     "traceback": [
      "\u001b[1;31m---------------------------------------------------------------------------\u001b[0m",
      "\u001b[1;31mTypeError\u001b[0m                                 Traceback (most recent call last)",
      "Cell \u001b[1;32mIn[83], line 1\u001b[0m\n\u001b[1;32m----> 1\u001b[0m \u001b[43mbar\u001b[49m\u001b[43m(\u001b[49m\u001b[38;5;241;43m2\u001b[39;49m\u001b[43m,\u001b[49m\u001b[43m \u001b[49m\u001b[38;5;241;43m3\u001b[39;49m\u001b[43m)\u001b[49m\n",
      "\u001b[1;31mTypeError\u001b[0m: bar() missing 1 required positional argument: 'c'"
     ]
    }
   ],
   "source": [
    "bar(2, 3)"
   ]
  },
  {
   "cell_type": "code",
   "execution_count": 84,
   "id": "ee38a187-161c-4073-bfbd-e6c8d5309562",
   "metadata": {},
   "outputs": [
    {
     "ename": "TypeError",
     "evalue": "bar() takes 3 positional arguments but 4 were given",
     "output_type": "error",
     "traceback": [
      "\u001b[1;31m---------------------------------------------------------------------------\u001b[0m",
      "\u001b[1;31mTypeError\u001b[0m                                 Traceback (most recent call last)",
      "Cell \u001b[1;32mIn[84], line 1\u001b[0m\n\u001b[1;32m----> 1\u001b[0m \u001b[43mbar\u001b[49m\u001b[43m(\u001b[49m\u001b[38;5;241;43m2\u001b[39;49m\u001b[43m,\u001b[49m\u001b[43m \u001b[49m\u001b[38;5;241;43m3\u001b[39;49m\u001b[43m,\u001b[49m\u001b[43m \u001b[49m\u001b[38;5;241;43m4\u001b[39;49m\u001b[43m,\u001b[49m\u001b[43m \u001b[49m\u001b[38;5;241;43m5\u001b[39;49m\u001b[43m)\u001b[49m\n",
      "\u001b[1;31mTypeError\u001b[0m: bar() takes 3 positional arguments but 4 were given"
     ]
    }
   ],
   "source": [
    "bar(2, 3, 4, 5)"
   ]
  },
  {
   "cell_type": "code",
   "execution_count": 85,
   "id": "50419525-0150-4a95-a788-a2e4d5a8dd61",
   "metadata": {},
   "outputs": [],
   "source": [
    "# 3. keyword arguments\n",
    "\n",
    "def baz(x, y, z):   # parameter = argument\n",
    "    print(f'x = {x}, y = {y}, z = {z}')"
   ]
  },
  {
   "cell_type": "code",
   "execution_count": 86,
   "id": "1b6c5185-ad29-436e-ad52-c225d78837fa",
   "metadata": {},
   "outputs": [
    {
     "name": "stdout",
     "output_type": "stream",
     "text": [
      "x = 2, y = 3, z = 4\n"
     ]
    }
   ],
   "source": [
    "baz(y = 3,  z = 4, x = 2)"
   ]
  },
  {
   "cell_type": "code",
   "execution_count": 88,
   "id": "4735db15-e440-429c-8956-19a3f55de0e7",
   "metadata": {},
   "outputs": [
    {
     "name": "stdout",
     "output_type": "stream",
     "text": [
      "x = 2, y = 3, z = 5\n"
     ]
    }
   ],
   "source": [
    "baz(2, y = 3, z = 5)"
   ]
  },
  {
   "cell_type": "code",
   "execution_count": 91,
   "id": "fe07bc0a-f4f3-4669-9c64-a8a73004b317",
   "metadata": {},
   "outputs": [
    {
     "ename": "SyntaxError",
     "evalue": "positional argument follows keyword argument (1878465714.py, line 2)",
     "output_type": "error",
     "traceback": [
      "\u001b[1;36m  Cell \u001b[1;32mIn[91], line 2\u001b[1;36m\u001b[0m\n\u001b[1;33m    baz(5, y = 5, 7)\u001b[0m\n\u001b[1;37m                   ^\u001b[0m\n\u001b[1;31mSyntaxError\u001b[0m\u001b[1;31m:\u001b[0m positional argument follows keyword argument\n"
     ]
    }
   ],
   "source": [
    "# positional --> keywords\n",
    "baz(5, y = 5, 7)"
   ]
  },
  {
   "cell_type": "code",
   "execution_count": 92,
   "id": "b5301327-c220-4cab-a3c0-4ff0be830ad1",
   "metadata": {},
   "outputs": [
    {
     "ename": "SyntaxError",
     "evalue": "positional argument follows keyword argument (699556290.py, line 1)",
     "output_type": "error",
     "traceback": [
      "\u001b[1;36m  Cell \u001b[1;32mIn[92], line 1\u001b[1;36m\u001b[0m\n\u001b[1;33m    baz(2, z = 3, 4)\u001b[0m\n\u001b[1;37m                   ^\u001b[0m\n\u001b[1;31mSyntaxError\u001b[0m\u001b[1;31m:\u001b[0m positional argument follows keyword argument\n"
     ]
    }
   ],
   "source": [
    "baz(2, z = 3, 4)"
   ]
  },
  {
   "cell_type": "code",
   "execution_count": 93,
   "id": "01c2c127-7641-4681-80d4-0466d10b5912",
   "metadata": {},
   "outputs": [
    {
     "ename": "TypeError",
     "evalue": "baz() got multiple values for argument 'x'",
     "output_type": "error",
     "traceback": [
      "\u001b[1;31m---------------------------------------------------------------------------\u001b[0m",
      "\u001b[1;31mTypeError\u001b[0m                                 Traceback (most recent call last)",
      "Cell \u001b[1;32mIn[93], line 2\u001b[0m\n\u001b[0;32m      1\u001b[0m \u001b[38;5;66;03m# x, y, z\u001b[39;00m\n\u001b[1;32m----> 2\u001b[0m \u001b[43mbaz\u001b[49m\u001b[43m(\u001b[49m\u001b[38;5;241;43m2\u001b[39;49m\u001b[43m,\u001b[49m\u001b[43m \u001b[49m\u001b[43mx\u001b[49m\u001b[43m \u001b[49m\u001b[38;5;241;43m=\u001b[39;49m\u001b[43m \u001b[49m\u001b[38;5;241;43m4\u001b[39;49m\u001b[43m,\u001b[49m\u001b[43m \u001b[49m\u001b[43my\u001b[49m\u001b[43m \u001b[49m\u001b[38;5;241;43m=\u001b[39;49m\u001b[43m \u001b[49m\u001b[38;5;241;43m6\u001b[39;49m\u001b[43m)\u001b[49m\n",
      "\u001b[1;31mTypeError\u001b[0m: baz() got multiple values for argument 'x'"
     ]
    }
   ],
   "source": [
    "# x, y, z\n",
    "baz(2, x = 4, y = 6)"
   ]
  },
  {
   "cell_type": "code",
   "execution_count": null,
   "id": "e27f94f0-1978-4de3-a283-25c1faf77315",
   "metadata": {},
   "outputs": [],
   "source": []
  }
 ],
 "metadata": {
  "kernelspec": {
   "display_name": "Python 3 (ipykernel)",
   "language": "python",
   "name": "python3"
  },
  "language_info": {
   "codemirror_mode": {
    "name": "ipython",
    "version": 3
   },
   "file_extension": ".py",
   "mimetype": "text/x-python",
   "name": "python",
   "nbconvert_exporter": "python",
   "pygments_lexer": "ipython3",
   "version": "3.13.1"
  }
 },
 "nbformat": 4,
 "nbformat_minor": 5
}
